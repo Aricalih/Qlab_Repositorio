{
 "cells": [
  {
   "cell_type": "markdown",
   "metadata": {},
   "source": [
    "# PC 3 \n",
    "\n",
    "### Pregunta 2"
   ]
  },
  {
   "cell_type": "code",
   "execution_count": 1,
   "metadata": {},
   "outputs": [],
   "source": [
    "import pandas as pd\n",
    "from sklearn.model_selection import train_test_split\n",
    "from sklearn.tree import DecisionTreeRegressor\n",
    "from sklearn.metrics import mean_squared_error\n",
    "from sklearn.ensemble import BaggingRegressor, RandomForestRegressor, GradientBoostingRegressor"
   ]
  },
  {
   "cell_type": "markdown",
   "metadata": {},
   "source": [
    "Importamos la data de carseats.csv"
   ]
  },
  {
   "cell_type": "code",
   "execution_count": 3,
   "metadata": {},
   "outputs": [
    {
     "data": {
      "text/html": [
       "<div>\n",
       "<style scoped>\n",
       "    .dataframe tbody tr th:only-of-type {\n",
       "        vertical-align: middle;\n",
       "    }\n",
       "\n",
       "    .dataframe tbody tr th {\n",
       "        vertical-align: top;\n",
       "    }\n",
       "\n",
       "    .dataframe thead th {\n",
       "        text-align: right;\n",
       "    }\n",
       "</style>\n",
       "<table border=\"1\" class=\"dataframe\">\n",
       "  <thead>\n",
       "    <tr style=\"text-align: right;\">\n",
       "      <th></th>\n",
       "      <th>Unnamed: 0</th>\n",
       "      <th>Sales</th>\n",
       "      <th>CompPrice</th>\n",
       "      <th>Income</th>\n",
       "      <th>Advertising</th>\n",
       "      <th>Population</th>\n",
       "      <th>Price</th>\n",
       "      <th>ShelveLoc</th>\n",
       "      <th>Age</th>\n",
       "      <th>Education</th>\n",
       "      <th>Urban</th>\n",
       "      <th>US</th>\n",
       "    </tr>\n",
       "  </thead>\n",
       "  <tbody>\n",
       "    <tr>\n",
       "      <th>0</th>\n",
       "      <td>0</td>\n",
       "      <td>9.50</td>\n",
       "      <td>138</td>\n",
       "      <td>73</td>\n",
       "      <td>11</td>\n",
       "      <td>276</td>\n",
       "      <td>120</td>\n",
       "      <td>Bad</td>\n",
       "      <td>42</td>\n",
       "      <td>17</td>\n",
       "      <td>Yes</td>\n",
       "      <td>Yes</td>\n",
       "    </tr>\n",
       "    <tr>\n",
       "      <th>1</th>\n",
       "      <td>1</td>\n",
       "      <td>11.22</td>\n",
       "      <td>111</td>\n",
       "      <td>48</td>\n",
       "      <td>16</td>\n",
       "      <td>260</td>\n",
       "      <td>83</td>\n",
       "      <td>Good</td>\n",
       "      <td>65</td>\n",
       "      <td>10</td>\n",
       "      <td>Yes</td>\n",
       "      <td>Yes</td>\n",
       "    </tr>\n",
       "    <tr>\n",
       "      <th>2</th>\n",
       "      <td>2</td>\n",
       "      <td>10.06</td>\n",
       "      <td>113</td>\n",
       "      <td>35</td>\n",
       "      <td>10</td>\n",
       "      <td>269</td>\n",
       "      <td>80</td>\n",
       "      <td>Medium</td>\n",
       "      <td>59</td>\n",
       "      <td>12</td>\n",
       "      <td>Yes</td>\n",
       "      <td>Yes</td>\n",
       "    </tr>\n",
       "    <tr>\n",
       "      <th>3</th>\n",
       "      <td>3</td>\n",
       "      <td>7.40</td>\n",
       "      <td>117</td>\n",
       "      <td>100</td>\n",
       "      <td>4</td>\n",
       "      <td>466</td>\n",
       "      <td>97</td>\n",
       "      <td>Medium</td>\n",
       "      <td>55</td>\n",
       "      <td>14</td>\n",
       "      <td>Yes</td>\n",
       "      <td>Yes</td>\n",
       "    </tr>\n",
       "    <tr>\n",
       "      <th>4</th>\n",
       "      <td>4</td>\n",
       "      <td>4.15</td>\n",
       "      <td>141</td>\n",
       "      <td>64</td>\n",
       "      <td>3</td>\n",
       "      <td>340</td>\n",
       "      <td>128</td>\n",
       "      <td>Bad</td>\n",
       "      <td>38</td>\n",
       "      <td>13</td>\n",
       "      <td>Yes</td>\n",
       "      <td>No</td>\n",
       "    </tr>\n",
       "    <tr>\n",
       "      <th>...</th>\n",
       "      <td>...</td>\n",
       "      <td>...</td>\n",
       "      <td>...</td>\n",
       "      <td>...</td>\n",
       "      <td>...</td>\n",
       "      <td>...</td>\n",
       "      <td>...</td>\n",
       "      <td>...</td>\n",
       "      <td>...</td>\n",
       "      <td>...</td>\n",
       "      <td>...</td>\n",
       "      <td>...</td>\n",
       "    </tr>\n",
       "    <tr>\n",
       "      <th>395</th>\n",
       "      <td>395</td>\n",
       "      <td>12.57</td>\n",
       "      <td>138</td>\n",
       "      <td>108</td>\n",
       "      <td>17</td>\n",
       "      <td>203</td>\n",
       "      <td>128</td>\n",
       "      <td>Good</td>\n",
       "      <td>33</td>\n",
       "      <td>14</td>\n",
       "      <td>Yes</td>\n",
       "      <td>Yes</td>\n",
       "    </tr>\n",
       "    <tr>\n",
       "      <th>396</th>\n",
       "      <td>396</td>\n",
       "      <td>6.14</td>\n",
       "      <td>139</td>\n",
       "      <td>23</td>\n",
       "      <td>3</td>\n",
       "      <td>37</td>\n",
       "      <td>120</td>\n",
       "      <td>Medium</td>\n",
       "      <td>55</td>\n",
       "      <td>11</td>\n",
       "      <td>No</td>\n",
       "      <td>Yes</td>\n",
       "    </tr>\n",
       "    <tr>\n",
       "      <th>397</th>\n",
       "      <td>397</td>\n",
       "      <td>7.41</td>\n",
       "      <td>162</td>\n",
       "      <td>26</td>\n",
       "      <td>12</td>\n",
       "      <td>368</td>\n",
       "      <td>159</td>\n",
       "      <td>Medium</td>\n",
       "      <td>40</td>\n",
       "      <td>18</td>\n",
       "      <td>Yes</td>\n",
       "      <td>Yes</td>\n",
       "    </tr>\n",
       "    <tr>\n",
       "      <th>398</th>\n",
       "      <td>398</td>\n",
       "      <td>5.94</td>\n",
       "      <td>100</td>\n",
       "      <td>79</td>\n",
       "      <td>7</td>\n",
       "      <td>284</td>\n",
       "      <td>95</td>\n",
       "      <td>Bad</td>\n",
       "      <td>50</td>\n",
       "      <td>12</td>\n",
       "      <td>Yes</td>\n",
       "      <td>Yes</td>\n",
       "    </tr>\n",
       "    <tr>\n",
       "      <th>399</th>\n",
       "      <td>399</td>\n",
       "      <td>9.71</td>\n",
       "      <td>134</td>\n",
       "      <td>37</td>\n",
       "      <td>0</td>\n",
       "      <td>27</td>\n",
       "      <td>120</td>\n",
       "      <td>Good</td>\n",
       "      <td>49</td>\n",
       "      <td>16</td>\n",
       "      <td>Yes</td>\n",
       "      <td>Yes</td>\n",
       "    </tr>\n",
       "  </tbody>\n",
       "</table>\n",
       "<p>400 rows × 12 columns</p>\n",
       "</div>"
      ],
      "text/plain": [
       "     Unnamed: 0  Sales  CompPrice  Income  Advertising  Population  Price  \\\n",
       "0             0   9.50        138      73           11         276    120   \n",
       "1             1  11.22        111      48           16         260     83   \n",
       "2             2  10.06        113      35           10         269     80   \n",
       "3             3   7.40        117     100            4         466     97   \n",
       "4             4   4.15        141      64            3         340    128   \n",
       "..          ...    ...        ...     ...          ...         ...    ...   \n",
       "395         395  12.57        138     108           17         203    128   \n",
       "396         396   6.14        139      23            3          37    120   \n",
       "397         397   7.41        162      26           12         368    159   \n",
       "398         398   5.94        100      79            7         284     95   \n",
       "399         399   9.71        134      37            0          27    120   \n",
       "\n",
       "    ShelveLoc  Age  Education Urban   US  \n",
       "0         Bad   42         17   Yes  Yes  \n",
       "1        Good   65         10   Yes  Yes  \n",
       "2      Medium   59         12   Yes  Yes  \n",
       "3      Medium   55         14   Yes  Yes  \n",
       "4         Bad   38         13   Yes   No  \n",
       "..        ...  ...        ...   ...  ...  \n",
       "395      Good   33         14   Yes  Yes  \n",
       "396    Medium   55         11    No  Yes  \n",
       "397    Medium   40         18   Yes  Yes  \n",
       "398       Bad   50         12   Yes  Yes  \n",
       "399      Good   49         16   Yes  Yes  \n",
       "\n",
       "[400 rows x 12 columns]"
      ]
     },
     "execution_count": 3,
     "metadata": {},
     "output_type": "execute_result"
    }
   ],
   "source": [
    "data = pd.read_csv('C:/Users/arica/OneDrive/Documentos/GitHub/Qlab_Repositorio/Introducción a Machine Learning/PC3/carseats.csv')\n",
    "\n",
    "data"
   ]
  },
  {
   "cell_type": "code",
   "execution_count": 4,
   "metadata": {},
   "outputs": [
    {
     "data": {
      "text/plain": [
       "(   Unnamed: 0  Sales  CompPrice  Income  Advertising  Population  Price  \\\n",
       " 0           0   9.50        138      73           11         276    120   \n",
       " 1           1  11.22        111      48           16         260     83   \n",
       " 2           2  10.06        113      35           10         269     80   \n",
       " 3           3   7.40        117     100            4         466     97   \n",
       " 4           4   4.15        141      64            3         340    128   \n",
       " \n",
       "   ShelveLoc  Age  Education Urban   US  \n",
       " 0       Bad   42         17   Yes  Yes  \n",
       " 1      Good   65         10   Yes  Yes  \n",
       " 2    Medium   59         12   Yes  Yes  \n",
       " 3    Medium   55         14   Yes  Yes  \n",
       " 4       Bad   38         13   Yes   No  ,\n",
       " (280, 11),\n",
       " (120, 11))"
      ]
     },
     "execution_count": 4,
     "metadata": {},
     "output_type": "execute_result"
    }
   ],
   "source": [
    "# Dividimos los datos en conjuntos de entrenamiento y prueba\n",
    "X = data.drop('Sales', axis=1)  # independientes\n",
    "y = data['Sales']  # dependiente\n",
    "\n",
    "# 70% entrenamiento, 30% prueba\n",
    "X_train, X_test, y_train, y_test = train_test_split(X, y, test_size=0.3, random_state=42)\n",
    "\n",
    "# Observamos primeras filas\n",
    "data.head(), X_train.shape, X_test.shape"
   ]
  },
  {
   "cell_type": "code",
   "execution_count": 5,
   "metadata": {},
   "outputs": [
    {
     "data": {
      "text/plain": [
       "4.7374616666666665"
      ]
     },
     "execution_count": 5,
     "metadata": {},
     "output_type": "execute_result"
    }
   ],
   "source": [
    "from sklearn.preprocessing import OneHotEncoder\n",
    "from sklearn.compose import ColumnTransformer\n",
    "from sklearn.pipeline import Pipeline\n",
    "\n",
    "# Identificamos las columnas categóricas\n",
    "categorical_features = data.select_dtypes(include=['object']).columns\n",
    "\n",
    "# Creamos un transformador de columnas para la codificación de las variables categóricas\n",
    "column_transformer = ColumnTransformer(\n",
    "    transformers=[\n",
    "        ('cat', OneHotEncoder(handle_unknown='ignore'), categorical_features)\n",
    "    ],\n",
    "    remainder='passthrough'\n",
    ")\n",
    "\n",
    "# Creamos un árbol de regresión con el transformador de columnas\n",
    "regressor = Pipeline(steps=[('preprocessor', column_transformer),\n",
    "                            ('regressor', DecisionTreeRegressor(random_state=42))])\n",
    "\n",
    "# Ajustamos el modelo al conjunto de entrenamiento\n",
    "regressor.fit(X_train, y_train)\n",
    "\n",
    "# Realizamos predicciones en el conjunto de prueba\n",
    "y_pred = regressor.predict(X_test)\n",
    "\n",
    "# Calculamos el MSE para el conjunto de prueba\n",
    "mse = mean_squared_error(y_test, y_pred)\n",
    "mse\n",
    "\n"
   ]
  },
  {
   "cell_type": "markdown",
   "metadata": {},
   "source": [
    "El modelo de árbol de regresión ha sido ajustado al conjunto de entrenamiento. El valor del Mean Squared Error (MSE) para el conjunto de prueba es aproximadamente 4.737."
   ]
  },
  {
   "cell_type": "markdown",
   "metadata": {},
   "source": [
    "Ahora, pasemos al tercer paso: aplicar el método Bagging y calcular el MSE para el conjunto de prueba."
   ]
  },
  {
   "cell_type": "markdown",
   "metadata": {},
   "source": [
    "El modelo Bagging ha sido ajustado y el valor del Mean Squared Error (MSE) para el conjunto de prueba es aproximadamente 2.687, lo cual es una mejora en comparación con el árbol de regresión solo."
   ]
  },
  {
   "cell_type": "code",
   "execution_count": 7,
   "metadata": {},
   "outputs": [
    {
     "name": "stderr",
     "output_type": "stream",
     "text": [
      "c:\\Users\\arica\\anaconda3\\Lib\\site-packages\\sklearn\\ensemble\\_base.py:156: FutureWarning: `base_estimator` was renamed to `estimator` in version 1.2 and will be removed in 1.4.\n",
      "  warnings.warn(\n"
     ]
    },
    {
     "data": {
      "text/plain": [
       "2.686782216666666"
      ]
     },
     "execution_count": 7,
     "metadata": {},
     "output_type": "execute_result"
    }
   ],
   "source": [
    "# Creamos un modelo Bagging con árboles de decisión como base\n",
    "bagging_regressor = Pipeline(steps=[('preprocessor', column_transformer),\n",
    "                                    ('regressor', BaggingRegressor(base_estimator=DecisionTreeRegressor(random_state=42),\n",
    "                                                                   random_state=42))])\n",
    "\n",
    "# Ajustamos el modelo Bagging al conjunto de entrenamiento\n",
    "bagging_regressor.fit(X_train, y_train)\n",
    "\n",
    "# Realizamos predicciones en el conjunto de prueba\n",
    "y_pred_bagging = bagging_regressor.predict(X_test)\n",
    "\n",
    "# Calculamos el MSE para el conjunto de prueba con Bagging\n",
    "mse_bagging = mean_squared_error(y_test, y_pred_bagging)\n",
    "mse_bagging\n",
    "\n"
   ]
  },
  {
   "cell_type": "markdown",
   "metadata": {},
   "source": [
    "Random Forest:\n",
    "\n",
    "El modelo de Random Forest ha sido ajustado y el valor del Mean Squared Error (MSE) para el conjunto de prueba es aproximadamente 2.612, lo cual indica una mejora adicional en comparación con el modelo Bagging.\n",
    "\n",
    "Las cinco características más importantes en el modelo de Random Forest son:\n",
    "\n",
    "Price: con la mayor importancia.\n",
    "ShelveLoc_Good: ubicación del producto en la tienda.\n",
    "Age: edad del consumidor.\n",
    "CompPrice: precio de la competencia.\n",
    "Advertising: gastos en publicidad."
   ]
  },
  {
   "cell_type": "code",
   "execution_count": 8,
   "metadata": {},
   "outputs": [
    {
     "data": {
      "text/plain": [
       "(2.6122368601666657,\n",
       "            Feature  Importance\n",
       " 12           Price    0.304137\n",
       " 1   ShelveLoc_Good    0.177810\n",
       " 13             Age    0.117862\n",
       " 8        CompPrice    0.093678\n",
       " 10     Advertising    0.067988)"
      ]
     },
     "execution_count": 8,
     "metadata": {},
     "output_type": "execute_result"
    }
   ],
   "source": [
    "# Creando un modelo Random Forest\n",
    "random_forest_regressor = Pipeline(steps=[('preprocessor', column_transformer),\n",
    "                                          ('regressor', RandomForestRegressor(random_state=42))])\n",
    "\n",
    "# Ajustando el modelo Random Forest al conjunto de entrenamiento\n",
    "random_forest_regressor.fit(X_train, y_train)\n",
    "\n",
    "# Realizando predicciones en el conjunto de prueba\n",
    "y_pred_rf = random_forest_regressor.predict(X_test)\n",
    "\n",
    "# Calculando el MSE para el conjunto de prueba con Random Forest\n",
    "mse_rf = mean_squared_error(y_test, y_pred_rf)\n",
    "\n",
    "# Obteniendo la importancia de las características\n",
    "feature_importances = random_forest_regressor.named_steps['regressor'].feature_importances_\n",
    "\n",
    "# Creando un DataFrame para visualizar mejor las importancias de las características\n",
    "features = column_transformer.transformers_[0][1].get_feature_names_out().tolist() + X_train.select_dtypes(include=['int64', 'float64']).columns.tolist()\n",
    "feature_importance_df = pd.DataFrame({'Feature': features, 'Importance': feature_importances})\n",
    "\n",
    "# Ordenando las características por importancia\n",
    "feature_importance_df.sort_values(by='Importance', ascending=False, inplace=True)\n",
    "\n",
    "mse_rf, feature_importance_df.head()  # Mostrando el MSE y las principales características\n",
    "\n"
   ]
  },
  {
   "cell_type": "markdown",
   "metadata": {},
   "source": [
    "Gradient Boosting\n",
    "\n",
    "El modelo de Gradient Boosting ha sido ajustado y el valor del MSE para el conjunto de prueba es aproximadamente 2.159, lo cual muestra una mejora notable en comparación con los modelos anteriores.\n",
    "\n",
    "Las cinco características más importantes en el modelo de Gradient son:\n",
    "\n",
    "Price: con la mayor importancia.\n",
    "ShelveLoc_Good: ubicación del producto en la tienda.\n",
    "CompPrice: precio de la competencia.\n",
    "Age: edad del consumidor.\n",
    "ShelveLoc_Bad: otra categoría de la ubicación del producto en la tienda."
   ]
  },
  {
   "cell_type": "code",
   "execution_count": 10,
   "metadata": {},
   "outputs": [
    {
     "data": {
      "text/plain": [
       "(2.158555043476713,\n",
       "            Feature  Importance\n",
       " 12           Price    0.338252\n",
       " 1   ShelveLoc_Good    0.174057\n",
       " 8        CompPrice    0.119547\n",
       " 13             Age    0.112794\n",
       " 0    ShelveLoc_Bad    0.079337)"
      ]
     },
     "execution_count": 10,
     "metadata": {},
     "output_type": "execute_result"
    }
   ],
   "source": [
    "# Creamos un modelo Gradient Boosting\n",
    "gradient_boosting_regressor = Pipeline(steps=[('preprocessor', column_transformer),\n",
    "                                              ('regressor', GradientBoostingRegressor(random_state=42))])\n",
    "\n",
    "# Ajustamos el modelo Gradient Boosting al conjunto de entrenamiento\n",
    "gradient_boosting_regressor.fit(X_train, y_train)\n",
    "\n",
    "# Realizamos predicciones en el conjunto de prueba\n",
    "y_pred_gb = gradient_boosting_regressor.predict(X_test)\n",
    "\n",
    "# Calculamos el MSE para el conjunto de prueba con Gradient Boosting\n",
    "mse_gb = mean_squared_error(y_test, y_pred_gb)\n",
    "\n",
    "# Obtenemos la importancia de las características en Gradient Boosting\n",
    "feature_importances_gb = gradient_boosting_regressor.named_steps['regressor'].feature_importances_\n",
    "\n",
    "# Creamos un DataFrame para las características en Gradient Boosting\n",
    "feature_importance_gb_df = pd.DataFrame({'Feature': features, 'Importance': feature_importances_gb})\n",
    "\n",
    "# Ordenamos las características por importancia\n",
    "feature_importance_gb_df.sort_values(by='Importance', ascending=False, inplace=True)\n",
    "\n",
    "mse_gb, feature_importance_gb_df.head()  # Mostrando el MSE y las principales características en Gradient Boosting\n",
    "\n",
    "\n"
   ]
  }
 ],
 "metadata": {
  "kernelspec": {
   "display_name": "Python 3",
   "language": "python",
   "name": "python3"
  },
  "language_info": {
   "codemirror_mode": {
    "name": "ipython",
    "version": 3
   },
   "file_extension": ".py",
   "mimetype": "text/x-python",
   "name": "python",
   "nbconvert_exporter": "python",
   "pygments_lexer": "ipython3",
   "version": "3.11.5"
  }
 },
 "nbformat": 4,
 "nbformat_minor": 2
}
